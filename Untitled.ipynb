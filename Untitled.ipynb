{
 "cells": [
  {
   "cell_type": "code",
   "execution_count": 3,
   "id": "3073d753-4195-4870-867b-057bf8ab55b7",
   "metadata": {},
   "outputs": [],
   "source": [
    "import pymysql\n",
    "from datetime import datetime"
   ]
  },
  {
   "cell_type": "code",
   "execution_count": 4,
   "id": "f51309e2-6f2d-4052-b35f-801edd109fdb",
   "metadata": {},
   "outputs": [],
   "source": [
    "conn = pymysql.connect(host='localhost', user='root', password='3260.hxs', database='vacantclassrooms')\n",
    "cursor = conn.cursor()"
   ]
  },
  {
   "cell_type": "code",
   "execution_count": 5,
   "id": "5974b409-b468-4c2b-a7ff-f89b24c728cf",
   "metadata": {},
   "outputs": [],
   "source": [
    "cursor.execute(f\"SHOW TABLES LIKE 'c3_%'\")\n",
    "all_classrooms = [row[0] for row in cursor.fetchall()]"
   ]
  },
  {
   "cell_type": "code",
   "execution_count": 6,
   "id": "34de1b9d-edfb-4eb4-878e-f2414fa37263",
   "metadata": {},
   "outputs": [
    {
     "data": {
      "text/plain": [
       "['c3_105',\n",
       " 'c3_108',\n",
       " 'c3_111',\n",
       " 'c3_117',\n",
       " 'c3_134',\n",
       " 'c3_205',\n",
       " 'c3_208',\n",
       " 'c3_211',\n",
       " 'c3_217',\n",
       " 'c3_235',\n",
       " 'c3_237',\n",
       " 'c3_305',\n",
       " 'c3_308',\n",
       " 'c3_311',\n",
       " 'c3_317',\n",
       " 'c3_326',\n",
       " 'c3_328',\n",
       " 'c3_333',\n",
       " 'c3_335',\n",
       " 'c3_337',\n",
       " 'c3_339',\n",
       " 'c3_405',\n",
       " 'c3_408',\n",
       " 'c3_411',\n",
       " 'c3_417',\n",
       " 'c3_426',\n",
       " 'c3_428',\n",
       " 'c3_433',\n",
       " 'c3_435',\n",
       " 'c3_437',\n",
       " 'c3_519',\n",
       " 'c3_535',\n",
       " 'c3_537',\n",
       " 'c3_539',\n",
       " 'c3_540',\n",
       " 'c3_546',\n",
       " 'c3_717']"
      ]
     },
     "execution_count": 6,
     "metadata": {},
     "output_type": "execute_result"
    }
   ],
   "source": [
    "all_classrooms\n"
   ]
  },
  {
   "cell_type": "code",
   "execution_count": 7,
   "id": "e5d2a0ba-7884-4609-8d14-203853e3c3c2",
   "metadata": {},
   "outputs": [],
   "source": [
    "current_datetime = datetime.now()\n",
    "weekday = current_datetime.weekday()\n",
    "weekday_names = [\"Mon\", \"Tues\", \"Wed\", \"Thur\", \"Fri\", \"Sat\", \"Sun\"]\n",
    "current_weekday_name = weekday_names[weekday]"
   ]
  },
  {
   "cell_type": "code",
   "execution_count": 8,
   "id": "ff96fc08-b61e-411d-a2ed-d3c1c782f216",
   "metadata": {},
   "outputs": [
    {
     "data": {
      "text/plain": [
       "'Wed'"
      ]
     },
     "execution_count": 8,
     "metadata": {},
     "output_type": "execute_result"
    }
   ],
   "source": [
    "current_weekday_name"
   ]
  },
  {
   "cell_type": "code",
   "execution_count": 17,
   "id": "3bb57995-b71e-4dc1-9e1c-5d05812d407c",
   "metadata": {},
   "outputs": [],
   "source": [
    "time = '8:00'"
   ]
  },
  {
   "cell_type": "code",
   "execution_count": 18,
   "id": "33ba66e7-f94b-4aee-a14d-cbc3ae9c05a7",
   "metadata": {},
   "outputs": [],
   "source": [
    "time_mapping = {\n",
    "        \"8:00\": 1,\n",
    "        \"8:50\": 2,\n",
    "        \"9:50\": 3,\n",
    "        \"10:40\": 4,\n",
    "        \"11:30\": 5,\n",
    "        \"13:00\": 6,\n",
    "        \"13:50\": 7,\n",
    "        \"14:45\": 8,\n",
    "        \"15:40\": 9,\n",
    "        \"16:35\": 10,\n",
    "        \"17:25\": 11,\n",
    "        \"18:30\": 12,\n",
    "        \"19:20\": 13,\n",
    "        \"20:10\": 14\n",
    "    }\n",
    "\n",
    "time_id = time_mapping.get(time)"
   ]
  },
  {
   "cell_type": "code",
   "execution_count": 19,
   "id": "febc4c7b-8a66-4ab4-8e0b-f02b4cee33f7",
   "metadata": {},
   "outputs": [
    {
     "data": {
      "text/plain": [
       "1"
      ]
     },
     "execution_count": 19,
     "metadata": {},
     "output_type": "execute_result"
    }
   ],
   "source": [
    "time_id"
   ]
  },
  {
   "cell_type": "code",
   "execution_count": 20,
   "id": "dda7e3cc-6b60-4f6e-ae1f-726749a9dd59",
   "metadata": {},
   "outputs": [],
   "source": [
    "occupied_classrooms = []"
   ]
  },
  {
   "cell_type": "code",
   "execution_count": 27,
   "id": "84825c44-ca5d-45b1-a559-ac920ae72541",
   "metadata": {},
   "outputs": [],
   "source": [
    "    for classroom in all_classrooms:\n",
    "        cursor.execute(f'''\n",
    "            SELECT {current_weekday_name} FROM {classroom}\n",
    "            WHERE id = {time_id}\n",
    "        ''')\n",
    "        if cursor.fetchall()[0] == 1:\n",
    "            occupied_classrooms.append(classroom)"
   ]
  },
  {
   "cell_type": "code",
   "execution_count": 31,
   "id": "e1a79996-de17-4a08-9e47-7faf835043f3",
   "metadata": {},
   "outputs": [
    {
     "data": {
      "text/plain": [
       "[]"
      ]
     },
     "execution_count": 31,
     "metadata": {},
     "output_type": "execute_result"
    }
   ],
   "source": [
    "occupied_classrooms\n"
   ]
  },
  {
   "cell_type": "code",
   "execution_count": 29,
   "id": "7c2ce7f6-5404-4d4d-b331-9fc6aa0477be",
   "metadata": {},
   "outputs": [
    {
     "data": {
      "text/plain": [
       "'Wed'"
      ]
     },
     "execution_count": 29,
     "metadata": {},
     "output_type": "execute_result"
    }
   ],
   "source": [
    "current_weekday_name\n"
   ]
  },
  {
   "cell_type": "code",
   "execution_count": 26,
   "id": "40a9e8cb-834b-4679-9ea1-9bdac28777b1",
   "metadata": {},
   "outputs": [],
   "source": [
    "cursor.fetchone()"
   ]
  },
  {
   "cell_type": "code",
   "execution_count": null,
   "id": "96154cdd-22c2-4e1d-895d-31f31ad45e1f",
   "metadata": {},
   "outputs": [],
   "source": []
  }
 ],
 "metadata": {
  "kernelspec": {
   "display_name": "Python 3 (ipykernel)",
   "language": "python",
   "name": "python3"
  },
  "language_info": {
   "codemirror_mode": {
    "name": "ipython",
    "version": 3
   },
   "file_extension": ".py",
   "mimetype": "text/x-python",
   "name": "python",
   "nbconvert_exporter": "python",
   "pygments_lexer": "ipython3",
   "version": "3.12.2"
  }
 },
 "nbformat": 4,
 "nbformat_minor": 5
}
